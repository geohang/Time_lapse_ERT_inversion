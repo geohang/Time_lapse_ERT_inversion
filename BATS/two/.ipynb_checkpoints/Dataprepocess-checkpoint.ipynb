{
 "cells": [
  {
   "cell_type": "code",
   "execution_count": 1,
   "id": "63730aea-d890-43a1-afd2-ed1e3b38945e",
   "metadata": {},
   "outputs": [],
   "source": [
    "import numpy as np\n",
    "\n",
    "import pygimli as pg\n",
    "import pygimli.meshtools as mt\n",
    "from pygimli.physics import ert\n",
    "import pybert as pb\n",
    "import pandas as pd\n",
    "from ERTpm.process import process\n",
    "from ERTpm.process import ERTdataset, read_labrecque,read_bert,output_file\n",
    "\n",
    "from ERTpm.invert import _invert_,  update_lam\n",
    "import matplotlib.pyplot as plt\n",
    "import os"
   ]
  },
  {
   "cell_type": "code",
   "execution_count": 2,
   "id": "6e836a01-e53a-4260-ad7d-48dbb58b2bd6",
   "metadata": {},
   "outputs": [],
   "source": [
    "files = os.listdir('.')"
   ]
  },
  {
   "cell_type": "code",
   "execution_count": 3,
   "id": "08dc9d39-8bca-48d0-b3d9-a2a88900cab0",
   "metadata": {},
   "outputs": [],
   "source": [
    "ertfile = []\n",
    "Data_arr = []\n",
    "for i in range(len(files)):\n",
    "    if files[i][-4:] == 'Data' or files[i][-4:] == 'data':\n",
    "        ertfile.append(files[i])\n",
    "        files[i] = files[i][:-1]\n",
    "        time = files[i][-17:-13] +'-'+ files[i][-13:-11] + '-' + files[i][-11:-9] + 'T' + files[i][-8:-6] + ':' + files[i][-6:-4] \n",
    "        Data_arr.append(np.datetime64(time))        "
   ]
  },
  {
   "cell_type": "code",
   "execution_count": 4,
   "id": "fa7bcedc-e178-44b0-8ce1-80cafbd3e4e7",
   "metadata": {},
   "outputs": [
    {
     "data": {
      "text/plain": [
       "51"
      ]
     },
     "execution_count": 4,
     "metadata": {},
     "output_type": "execute_result"
    }
   ],
   "source": [
    "name = ertfile\n",
    "len(Data_arr)"
   ]
  },
  {
   "cell_type": "code",
   "execution_count": 5,
   "id": "d6f4f7a7-3994-4306-ad1e-b803aac54296",
   "metadata": {},
   "outputs": [
    {
     "name": "stdout",
     "output_type": "stream",
     "text": [
      "FreDom:  False     AppRes:  False     TW:  0     SP:  1\n",
      "{'meas': 0, 'a': 2, 'b': 4, 'm': 6, 'n': 8, 'r': 9, 'stk': 10, 'v': 11, 'curr': 14, 'ctc': 15, 'datetime': 16}\n",
      "FreDom:  False     AppRes:  False     TW:  0     SP:  1\n",
      "{'meas': 0, 'a': 2, 'b': 4, 'm': 6, 'n': 8, 'r': 9, 'stk': 10, 'v': 11, 'curr': 14, 'ctc': 15, 'datetime': 16}\n",
      "FreDom:  False     AppRes:  False     TW:  0     SP:  1\n",
      "{'meas': 0, 'a': 2, 'b': 4, 'm': 6, 'n': 8, 'r': 9, 'stk': 10, 'v': 11, 'curr': 14, 'ctc': 15, 'datetime': 16}\n",
      "FreDom:  False     AppRes:  False     TW:  0     SP:  1\n",
      "{'meas': 0, 'a': 2, 'b': 4, 'm': 6, 'n': 8, 'r': 9, 'stk': 10, 'v': 11, 'curr': 14, 'ctc': 15, 'datetime': 16}\n",
      "FreDom:  False     AppRes:  False     TW:  0     SP:  1\n",
      "{'meas': 0, 'a': 2, 'b': 4, 'm': 6, 'n': 8, 'r': 9, 'stk': 10, 'v': 11, 'curr': 14, 'ctc': 15, 'datetime': 16}\n",
      "FreDom:  False     AppRes:  False     TW:  0     SP:  1\n",
      "{'meas': 0, 'a': 2, 'b': 4, 'm': 6, 'n': 8, 'r': 9, 'stk': 10, 'v': 11, 'curr': 14, 'ctc': 15, 'datetime': 16}\n",
      "FreDom:  False     AppRes:  False     TW:  0     SP:  1\n",
      "{'meas': 0, 'a': 2, 'b': 4, 'm': 6, 'n': 8, 'r': 9, 'stk': 10, 'v': 11, 'curr': 14, 'ctc': 15, 'datetime': 16}\n",
      "FreDom:  False     AppRes:  False     TW:  0     SP:  1\n",
      "{'meas': 0, 'a': 2, 'b': 4, 'm': 6, 'n': 8, 'r': 9, 'stk': 10, 'v': 11, 'curr': 14, 'ctc': 15, 'datetime': 16}\n",
      "FreDom:  False     AppRes:  False     TW:  0     SP:  1\n",
      "{'meas': 0, 'a': 2, 'b': 4, 'm': 6, 'n': 8, 'r': 9, 'stk': 10, 'v': 11, 'curr': 14, 'ctc': 15, 'datetime': 16}\n",
      "FreDom:  False     AppRes:  False     TW:  0     SP:  1\n",
      "{'meas': 0, 'a': 2, 'b': 4, 'm': 6, 'n': 8, 'r': 9, 'stk': 10, 'v': 11, 'curr': 14, 'ctc': 15, 'datetime': 16}\n",
      "FreDom:  False     AppRes:  False     TW:  0     SP:  1\n",
      "{'meas': 0, 'a': 2, 'b': 4, 'm': 6, 'n': 8, 'r': 9, 'stk': 10, 'v': 11, 'curr': 14, 'ctc': 15, 'datetime': 16}\n",
      "FreDom:  False     AppRes:  False     TW:  0     SP:  1\n",
      "{'meas': 0, 'a': 2, 'b': 4, 'm': 6, 'n': 8, 'r': 9, 'stk': 10, 'v': 11, 'curr': 14, 'ctc': 15, 'datetime': 16}\n",
      "FreDom:  False     AppRes:  False     TW:  0     SP:  1\n",
      "{'meas': 0, 'a': 2, 'b': 4, 'm': 6, 'n': 8, 'r': 9, 'stk': 10, 'v': 11, 'curr': 14, 'ctc': 15, 'datetime': 16}\n",
      "FreDom:  False     AppRes:  False     TW:  0     SP:  1\n",
      "{'meas': 0, 'a': 2, 'b': 4, 'm': 6, 'n': 8, 'r': 9, 'stk': 10, 'v': 11, 'curr': 14, 'ctc': 15, 'datetime': 16}\n",
      "FreDom:  False     AppRes:  False     TW:  0     SP:  1\n",
      "{'meas': 0, 'a': 2, 'b': 4, 'm': 6, 'n': 8, 'r': 9, 'stk': 10, 'v': 11, 'curr': 14, 'ctc': 15, 'datetime': 16}\n",
      "FreDom:  False     AppRes:  False     TW:  0     SP:  1\n",
      "{'meas': 0, 'a': 2, 'b': 4, 'm': 6, 'n': 8, 'r': 9, 'stk': 10, 'v': 11, 'curr': 14, 'ctc': 15, 'datetime': 16}\n",
      "FreDom:  False     AppRes:  False     TW:  0     SP:  1\n",
      "{'meas': 0, 'a': 2, 'b': 4, 'm': 6, 'n': 8, 'r': 9, 'stk': 10, 'v': 11, 'curr': 14, 'ctc': 15, 'datetime': 16}\n",
      "FreDom:  False     AppRes:  False     TW:  0     SP:  1\n",
      "{'meas': 0, 'a': 2, 'b': 4, 'm': 6, 'n': 8, 'r': 9, 'stk': 10, 'v': 11, 'curr': 14, 'ctc': 15, 'datetime': 16}\n",
      "FreDom:  False     AppRes:  False     TW:  0     SP:  1\n",
      "{'meas': 0, 'a': 2, 'b': 4, 'm': 6, 'n': 8, 'r': 9, 'stk': 10, 'v': 11, 'curr': 14, 'ctc': 15, 'datetime': 16}\n",
      "FreDom:  False     AppRes:  False     TW:  0     SP:  1\n",
      "{'meas': 0, 'a': 2, 'b': 4, 'm': 6, 'n': 8, 'r': 9, 'stk': 10, 'v': 11, 'curr': 14, 'ctc': 15, 'datetime': 16}\n",
      "FreDom:  False     AppRes:  False     TW:  0     SP:  1\n",
      "{'meas': 0, 'a': 2, 'b': 4, 'm': 6, 'n': 8, 'r': 9, 'stk': 10, 'v': 11, 'curr': 14, 'ctc': 15, 'datetime': 16}\n",
      "FreDom:  False     AppRes:  False     TW:  0     SP:  1\n",
      "{'meas': 0, 'a': 2, 'b': 4, 'm': 6, 'n': 8, 'r': 9, 'stk': 10, 'v': 11, 'curr': 14, 'ctc': 15, 'datetime': 16}\n",
      "FreDom:  False     AppRes:  False     TW:  0     SP:  1\n",
      "{'meas': 0, 'a': 2, 'b': 4, 'm': 6, 'n': 8, 'r': 9, 'stk': 10, 'v': 11, 'curr': 14, 'ctc': 15, 'datetime': 16}\n",
      "FreDom:  False     AppRes:  False     TW:  0     SP:  1\n",
      "{'meas': 0, 'a': 2, 'b': 4, 'm': 6, 'n': 8, 'r': 9, 'stk': 10, 'v': 11, 'curr': 14, 'ctc': 15, 'datetime': 16}\n",
      "FreDom:  False     AppRes:  False     TW:  0     SP:  1\n",
      "{'meas': 0, 'a': 2, 'b': 4, 'm': 6, 'n': 8, 'r': 9, 'stk': 10, 'v': 11, 'curr': 14, 'ctc': 15, 'datetime': 16}\n",
      "FreDom:  False     AppRes:  False     TW:  0     SP:  1\n",
      "{'meas': 0, 'a': 2, 'b': 4, 'm': 6, 'n': 8, 'r': 9, 'stk': 10, 'v': 11, 'curr': 14, 'ctc': 15, 'datetime': 16}\n",
      "FreDom:  False     AppRes:  False     TW:  0     SP:  1\n",
      "{'meas': 0, 'a': 2, 'b': 4, 'm': 6, 'n': 8, 'r': 9, 'stk': 10, 'v': 11, 'curr': 14, 'ctc': 15, 'datetime': 16}\n",
      "FreDom:  False     AppRes:  False     TW:  0     SP:  1\n",
      "{'meas': 0, 'a': 2, 'b': 4, 'm': 6, 'n': 8, 'r': 9, 'stk': 10, 'v': 11, 'curr': 14, 'ctc': 15, 'datetime': 16}\n",
      "FreDom:  False     AppRes:  False     TW:  0     SP:  1\n",
      "{'meas': 0, 'a': 2, 'b': 4, 'm': 6, 'n': 8, 'r': 9, 'stk': 10, 'v': 11, 'curr': 14, 'ctc': 15, 'datetime': 16}\n",
      "FreDom:  False     AppRes:  False     TW:  0     SP:  1\n",
      "{'meas': 0, 'a': 2, 'b': 4, 'm': 6, 'n': 8, 'r': 9, 'stk': 10, 'v': 11, 'curr': 14, 'ctc': 15, 'datetime': 16}\n",
      "FreDom:  False     AppRes:  False     TW:  0     SP:  1\n",
      "{'meas': 0, 'a': 2, 'b': 4, 'm': 6, 'n': 8, 'r': 9, 'stk': 10, 'v': 11, 'curr': 14, 'ctc': 15, 'datetime': 16}\n",
      "FreDom:  False     AppRes:  False     TW:  0     SP:  1\n",
      "{'meas': 0, 'a': 2, 'b': 4, 'm': 6, 'n': 8, 'r': 9, 'stk': 10, 'v': 11, 'curr': 14, 'ctc': 15, 'datetime': 16}\n",
      "FreDom:  False     AppRes:  False     TW:  0     SP:  1\n",
      "{'meas': 0, 'a': 2, 'b': 4, 'm': 6, 'n': 8, 'r': 9, 'stk': 10, 'v': 11, 'curr': 14, 'ctc': 15, 'datetime': 16}\n",
      "FreDom:  False     AppRes:  False     TW:  0     SP:  1\n",
      "{'meas': 0, 'a': 2, 'b': 4, 'm': 6, 'n': 8, 'r': 9, 'stk': 10, 'v': 11, 'curr': 14, 'ctc': 15, 'datetime': 16}\n",
      "FreDom:  False     AppRes:  False     TW:  0     SP:  1\n",
      "{'meas': 0, 'a': 2, 'b': 4, 'm': 6, 'n': 8, 'r': 9, 'stk': 10, 'v': 11, 'curr': 14, 'ctc': 15, 'datetime': 16}\n",
      "FreDom:  False     AppRes:  False     TW:  0     SP:  1\n",
      "{'meas': 0, 'a': 2, 'b': 4, 'm': 6, 'n': 8, 'r': 9, 'stk': 10, 'v': 11, 'curr': 14, 'ctc': 15, 'datetime': 16}\n",
      "FreDom:  False     AppRes:  False     TW:  0     SP:  1\n",
      "{'meas': 0, 'a': 2, 'b': 4, 'm': 6, 'n': 8, 'r': 9, 'stk': 10, 'v': 11, 'curr': 14, 'ctc': 15, 'datetime': 16}\n",
      "FreDom:  False     AppRes:  False     TW:  0     SP:  1\n",
      "{'meas': 0, 'a': 2, 'b': 4, 'm': 6, 'n': 8, 'r': 9, 'stk': 10, 'v': 11, 'curr': 14, 'ctc': 15, 'datetime': 16}\n",
      "FreDom:  False     AppRes:  False     TW:  0     SP:  1\n",
      "{'meas': 0, 'a': 2, 'b': 4, 'm': 6, 'n': 8, 'r': 9, 'stk': 10, 'v': 11, 'curr': 14, 'ctc': 15, 'datetime': 16}\n",
      "FreDom:  False     AppRes:  False     TW:  0     SP:  1\n",
      "{'meas': 0, 'a': 2, 'b': 4, 'm': 6, 'n': 8, 'r': 9, 'stk': 10, 'v': 11, 'curr': 14, 'ctc': 15, 'datetime': 16}\n",
      "FreDom:  False     AppRes:  False     TW:  0     SP:  1\n",
      "{'meas': 0, 'a': 2, 'b': 4, 'm': 6, 'n': 8, 'r': 9, 'stk': 10, 'v': 11, 'curr': 14, 'ctc': 15, 'datetime': 16}\n",
      "FreDom:  False     AppRes:  False     TW:  0     SP:  1\n",
      "{'meas': 0, 'a': 2, 'b': 4, 'm': 6, 'n': 8, 'r': 9, 'stk': 10, 'v': 11, 'curr': 14, 'ctc': 15, 'datetime': 16}\n",
      "FreDom:  False     AppRes:  False     TW:  0     SP:  1\n",
      "{'meas': 0, 'a': 2, 'b': 4, 'm': 6, 'n': 8, 'r': 9, 'stk': 10, 'v': 11, 'curr': 14, 'ctc': 15, 'datetime': 16}\n",
      "FreDom:  False     AppRes:  False     TW:  0     SP:  1\n",
      "{'meas': 0, 'a': 2, 'b': 4, 'm': 6, 'n': 8, 'r': 9, 'stk': 10, 'v': 11, 'curr': 14, 'ctc': 15, 'datetime': 16}\n",
      "FreDom:  False     AppRes:  False     TW:  0     SP:  1\n",
      "{'meas': 0, 'a': 2, 'b': 4, 'm': 6, 'n': 8, 'r': 9, 'stk': 10, 'v': 11, 'curr': 14, 'ctc': 15, 'datetime': 16}\n",
      "FreDom:  False     AppRes:  False     TW:  0     SP:  1\n",
      "{'meas': 0, 'a': 2, 'b': 4, 'm': 6, 'n': 8, 'r': 9, 'stk': 10, 'v': 11, 'curr': 14, 'ctc': 15, 'datetime': 16}\n",
      "FreDom:  False     AppRes:  False     TW:  0     SP:  1\n",
      "{'meas': 0, 'a': 2, 'b': 4, 'm': 6, 'n': 8, 'r': 9, 'stk': 10, 'v': 11, 'curr': 14, 'ctc': 15, 'datetime': 16}\n",
      "FreDom:  False     AppRes:  False     TW:  0     SP:  1\n",
      "{'meas': 0, 'a': 2, 'b': 4, 'm': 6, 'n': 8, 'r': 9, 'stk': 10, 'v': 11, 'curr': 14, 'ctc': 15, 'datetime': 16}\n",
      "FreDom:  False     AppRes:  False     TW:  0     SP:  1\n",
      "{'meas': 0, 'a': 2, 'b': 4, 'm': 6, 'n': 8, 'r': 9, 'stk': 10, 'v': 11, 'curr': 14, 'ctc': 15, 'datetime': 16}\n",
      "FreDom:  False     AppRes:  False     TW:  0     SP:  1\n",
      "{'meas': 0, 'a': 2, 'b': 4, 'm': 6, 'n': 8, 'r': 9, 'stk': 10, 'v': 11, 'curr': 14, 'ctc': 15, 'datetime': 16}\n",
      "FreDom:  False     AppRes:  False     TW:  0     SP:  1\n",
      "{'meas': 0, 'a': 2, 'b': 4, 'm': 6, 'n': 8, 'r': 9, 'stk': 10, 'v': 11, 'curr': 14, 'ctc': 15, 'datetime': 16}\n"
     ]
    }
   ],
   "source": [
    "alldata = []\n",
    "Data_arr= [] \n",
    "for i in range(len(name)):\n",
    "    f = name[i]\n",
    "    elec, data = read_labrecque(f)\n",
    "    ds = ERTdataset(data=data, elec=elec)\n",
    "    #ds.process_rec(x='r', x_avg='rec_avg', x_err='rec_err')\n",
    "    alldata.append(ds.data['r'])\n",
    "    if len(ds.data['r']) < 3072:\n",
    "        print(i)\n",
    "\n"
   ]
  },
  {
   "cell_type": "code",
   "execution_count": null,
   "id": "6c04af5c-dc23-4936-8a87-af700d870236",
   "metadata": {},
   "outputs": [],
   "source": []
  },
  {
   "cell_type": "code",
   "execution_count": 6,
   "id": "2f6b92ac-a80c-4385-8a3e-380cfd7c3f7d",
   "metadata": {},
   "outputs": [
    {
     "name": "stdout",
     "output_type": "stream",
     "text": [
      "FreDom:  False     AppRes:  False     TW:  0     SP:  1\n",
      "{'meas': 0, 'a': 2, 'b': 4, 'm': 6, 'n': 8, 'r': 9, 'stk': 10, 'v': 11, 'curr': 14, 'ctc': 15, 'datetime': 16}\n"
     ]
    }
   ],
   "source": [
    "f = name[4]\n",
    "elec, data = read_labrecque(f)\n",
    "ds = ERTdataset(data=data, elec=elec)"
   ]
  },
  {
   "cell_type": "code",
   "execution_count": 7,
   "id": "aa6a422d-cc06-4e6d-9021-8f8dfb0a8575",
   "metadata": {},
   "outputs": [
    {
     "data": {
      "text/html": [
       "<div>\n",
       "<style scoped>\n",
       "    .dataframe tbody tr th:only-of-type {\n",
       "        vertical-align: middle;\n",
       "    }\n",
       "\n",
       "    .dataframe tbody tr th {\n",
       "        vertical-align: top;\n",
       "    }\n",
       "\n",
       "    .dataframe thead th {\n",
       "        text-align: right;\n",
       "    }\n",
       "</style>\n",
       "<table border=\"1\" class=\"dataframe\">\n",
       "  <thead>\n",
       "    <tr style=\"text-align: right;\">\n",
       "      <th></th>\n",
       "      <th>meas</th>\n",
       "      <th>a</th>\n",
       "      <th>b</th>\n",
       "      <th>m</th>\n",
       "      <th>n</th>\n",
       "      <th>r</th>\n",
       "      <th>k</th>\n",
       "      <th>rhoa</th>\n",
       "      <th>ip</th>\n",
       "      <th>v</th>\n",
       "      <th>...</th>\n",
       "      <th>rec_ip_avg</th>\n",
       "      <th>rec_ip_err</th>\n",
       "      <th>rec_valid</th>\n",
       "      <th>k_valid</th>\n",
       "      <th>rhoa_valid</th>\n",
       "      <th>v_valid</th>\n",
       "      <th>ctc_valid</th>\n",
       "      <th>stk_valid</th>\n",
       "      <th>elec_valid</th>\n",
       "      <th>valid</th>\n",
       "    </tr>\n",
       "  </thead>\n",
       "  <tbody>\n",
       "    <tr>\n",
       "      <th>0</th>\n",
       "      <td>1</td>\n",
       "      <td>63</td>\n",
       "      <td>64</td>\n",
       "      <td>19</td>\n",
       "      <td>20</td>\n",
       "      <td>0.010544</td>\n",
       "      <td>NaN</td>\n",
       "      <td>NaN</td>\n",
       "      <td>1.0</td>\n",
       "      <td>0.007737</td>\n",
       "      <td>...</td>\n",
       "      <td>NaN</td>\n",
       "      <td>NaN</td>\n",
       "      <td>True</td>\n",
       "      <td>True</td>\n",
       "      <td>True</td>\n",
       "      <td>True</td>\n",
       "      <td>True</td>\n",
       "      <td>True</td>\n",
       "      <td>True</td>\n",
       "      <td>True</td>\n",
       "    </tr>\n",
       "    <tr>\n",
       "      <th>1</th>\n",
       "      <td>2</td>\n",
       "      <td>56</td>\n",
       "      <td>64</td>\n",
       "      <td>18</td>\n",
       "      <td>26</td>\n",
       "      <td>11.060792</td>\n",
       "      <td>NaN</td>\n",
       "      <td>NaN</td>\n",
       "      <td>1.0</td>\n",
       "      <td>1.968502</td>\n",
       "      <td>...</td>\n",
       "      <td>NaN</td>\n",
       "      <td>NaN</td>\n",
       "      <td>True</td>\n",
       "      <td>True</td>\n",
       "      <td>True</td>\n",
       "      <td>True</td>\n",
       "      <td>True</td>\n",
       "      <td>True</td>\n",
       "      <td>True</td>\n",
       "      <td>True</td>\n",
       "    </tr>\n",
       "    <tr>\n",
       "      <th>2</th>\n",
       "      <td>3</td>\n",
       "      <td>56</td>\n",
       "      <td>63</td>\n",
       "      <td>18</td>\n",
       "      <td>25</td>\n",
       "      <td>8.303088</td>\n",
       "      <td>NaN</td>\n",
       "      <td>NaN</td>\n",
       "      <td>1.0</td>\n",
       "      <td>1.423719</td>\n",
       "      <td>...</td>\n",
       "      <td>NaN</td>\n",
       "      <td>NaN</td>\n",
       "      <td>True</td>\n",
       "      <td>True</td>\n",
       "      <td>True</td>\n",
       "      <td>True</td>\n",
       "      <td>True</td>\n",
       "      <td>True</td>\n",
       "      <td>True</td>\n",
       "      <td>True</td>\n",
       "    </tr>\n",
       "    <tr>\n",
       "      <th>3</th>\n",
       "      <td>4</td>\n",
       "      <td>56</td>\n",
       "      <td>62</td>\n",
       "      <td>18</td>\n",
       "      <td>24</td>\n",
       "      <td>5.908530</td>\n",
       "      <td>NaN</td>\n",
       "      <td>NaN</td>\n",
       "      <td>1.0</td>\n",
       "      <td>1.147186</td>\n",
       "      <td>...</td>\n",
       "      <td>NaN</td>\n",
       "      <td>NaN</td>\n",
       "      <td>True</td>\n",
       "      <td>True</td>\n",
       "      <td>True</td>\n",
       "      <td>True</td>\n",
       "      <td>True</td>\n",
       "      <td>True</td>\n",
       "      <td>True</td>\n",
       "      <td>True</td>\n",
       "    </tr>\n",
       "    <tr>\n",
       "      <th>4</th>\n",
       "      <td>5</td>\n",
       "      <td>56</td>\n",
       "      <td>61</td>\n",
       "      <td>18</td>\n",
       "      <td>23</td>\n",
       "      <td>4.141073</td>\n",
       "      <td>NaN</td>\n",
       "      <td>NaN</td>\n",
       "      <td>1.0</td>\n",
       "      <td>0.907297</td>\n",
       "      <td>...</td>\n",
       "      <td>NaN</td>\n",
       "      <td>NaN</td>\n",
       "      <td>True</td>\n",
       "      <td>True</td>\n",
       "      <td>True</td>\n",
       "      <td>True</td>\n",
       "      <td>True</td>\n",
       "      <td>True</td>\n",
       "      <td>True</td>\n",
       "      <td>True</td>\n",
       "    </tr>\n",
       "    <tr>\n",
       "      <th>...</th>\n",
       "      <td>...</td>\n",
       "      <td>...</td>\n",
       "      <td>...</td>\n",
       "      <td>...</td>\n",
       "      <td>...</td>\n",
       "      <td>...</td>\n",
       "      <td>...</td>\n",
       "      <td>...</td>\n",
       "      <td>...</td>\n",
       "      <td>...</td>\n",
       "      <td>...</td>\n",
       "      <td>...</td>\n",
       "      <td>...</td>\n",
       "      <td>...</td>\n",
       "      <td>...</td>\n",
       "      <td>...</td>\n",
       "      <td>...</td>\n",
       "      <td>...</td>\n",
       "      <td>...</td>\n",
       "      <td>...</td>\n",
       "      <td>...</td>\n",
       "    </tr>\n",
       "    <tr>\n",
       "      <th>3067</th>\n",
       "      <td>3068</td>\n",
       "      <td>6</td>\n",
       "      <td>22</td>\n",
       "      <td>1</td>\n",
       "      <td>17</td>\n",
       "      <td>241.560818</td>\n",
       "      <td>NaN</td>\n",
       "      <td>NaN</td>\n",
       "      <td>1.0</td>\n",
       "      <td>4.751080</td>\n",
       "      <td>...</td>\n",
       "      <td>NaN</td>\n",
       "      <td>NaN</td>\n",
       "      <td>True</td>\n",
       "      <td>True</td>\n",
       "      <td>True</td>\n",
       "      <td>True</td>\n",
       "      <td>True</td>\n",
       "      <td>True</td>\n",
       "      <td>True</td>\n",
       "      <td>True</td>\n",
       "    </tr>\n",
       "    <tr>\n",
       "      <th>3068</th>\n",
       "      <td>3069</td>\n",
       "      <td>5</td>\n",
       "      <td>21</td>\n",
       "      <td>1</td>\n",
       "      <td>17</td>\n",
       "      <td>383.736962</td>\n",
       "      <td>NaN</td>\n",
       "      <td>NaN</td>\n",
       "      <td>1.0</td>\n",
       "      <td>6.588694</td>\n",
       "      <td>...</td>\n",
       "      <td>NaN</td>\n",
       "      <td>NaN</td>\n",
       "      <td>True</td>\n",
       "      <td>True</td>\n",
       "      <td>True</td>\n",
       "      <td>True</td>\n",
       "      <td>True</td>\n",
       "      <td>True</td>\n",
       "      <td>True</td>\n",
       "      <td>True</td>\n",
       "    </tr>\n",
       "    <tr>\n",
       "      <th>3069</th>\n",
       "      <td>3070</td>\n",
       "      <td>4</td>\n",
       "      <td>20</td>\n",
       "      <td>1</td>\n",
       "      <td>17</td>\n",
       "      <td>487.942380</td>\n",
       "      <td>NaN</td>\n",
       "      <td>NaN</td>\n",
       "      <td>1.0</td>\n",
       "      <td>9.810413</td>\n",
       "      <td>...</td>\n",
       "      <td>NaN</td>\n",
       "      <td>NaN</td>\n",
       "      <td>True</td>\n",
       "      <td>True</td>\n",
       "      <td>True</td>\n",
       "      <td>True</td>\n",
       "      <td>True</td>\n",
       "      <td>True</td>\n",
       "      <td>True</td>\n",
       "      <td>True</td>\n",
       "    </tr>\n",
       "    <tr>\n",
       "      <th>3070</th>\n",
       "      <td>3071</td>\n",
       "      <td>3</td>\n",
       "      <td>19</td>\n",
       "      <td>1</td>\n",
       "      <td>17</td>\n",
       "      <td>473.713439</td>\n",
       "      <td>NaN</td>\n",
       "      <td>NaN</td>\n",
       "      <td>1.0</td>\n",
       "      <td>9.812675</td>\n",
       "      <td>...</td>\n",
       "      <td>NaN</td>\n",
       "      <td>NaN</td>\n",
       "      <td>True</td>\n",
       "      <td>True</td>\n",
       "      <td>True</td>\n",
       "      <td>True</td>\n",
       "      <td>True</td>\n",
       "      <td>True</td>\n",
       "      <td>True</td>\n",
       "      <td>True</td>\n",
       "    </tr>\n",
       "    <tr>\n",
       "      <th>3071</th>\n",
       "      <td>3072</td>\n",
       "      <td>2</td>\n",
       "      <td>18</td>\n",
       "      <td>1</td>\n",
       "      <td>17</td>\n",
       "      <td>513.462262</td>\n",
       "      <td>NaN</td>\n",
       "      <td>NaN</td>\n",
       "      <td>1.0</td>\n",
       "      <td>9.813542</td>\n",
       "      <td>...</td>\n",
       "      <td>NaN</td>\n",
       "      <td>NaN</td>\n",
       "      <td>True</td>\n",
       "      <td>True</td>\n",
       "      <td>True</td>\n",
       "      <td>True</td>\n",
       "      <td>True</td>\n",
       "      <td>True</td>\n",
       "      <td>True</td>\n",
       "      <td>True</td>\n",
       "    </tr>\n",
       "  </tbody>\n",
       "</table>\n",
       "<p>3072 rows × 28 columns</p>\n",
       "</div>"
      ],
      "text/plain": [
       "      meas   a   b   m   n           r   k  rhoa   ip         v  ...  \\\n",
       "0        1  63  64  19  20    0.010544 NaN   NaN  1.0  0.007737  ...   \n",
       "1        2  56  64  18  26   11.060792 NaN   NaN  1.0  1.968502  ...   \n",
       "2        3  56  63  18  25    8.303088 NaN   NaN  1.0  1.423719  ...   \n",
       "3        4  56  62  18  24    5.908530 NaN   NaN  1.0  1.147186  ...   \n",
       "4        5  56  61  18  23    4.141073 NaN   NaN  1.0  0.907297  ...   \n",
       "...    ...  ..  ..  ..  ..         ...  ..   ...  ...       ...  ...   \n",
       "3067  3068   6  22   1  17  241.560818 NaN   NaN  1.0  4.751080  ...   \n",
       "3068  3069   5  21   1  17  383.736962 NaN   NaN  1.0  6.588694  ...   \n",
       "3069  3070   4  20   1  17  487.942380 NaN   NaN  1.0  9.810413  ...   \n",
       "3070  3071   3  19   1  17  473.713439 NaN   NaN  1.0  9.812675  ...   \n",
       "3071  3072   2  18   1  17  513.462262 NaN   NaN  1.0  9.813542  ...   \n",
       "\n",
       "      rec_ip_avg  rec_ip_err  rec_valid k_valid  rhoa_valid  v_valid  \\\n",
       "0            NaN         NaN       True    True        True     True   \n",
       "1            NaN         NaN       True    True        True     True   \n",
       "2            NaN         NaN       True    True        True     True   \n",
       "3            NaN         NaN       True    True        True     True   \n",
       "4            NaN         NaN       True    True        True     True   \n",
       "...          ...         ...        ...     ...         ...      ...   \n",
       "3067         NaN         NaN       True    True        True     True   \n",
       "3068         NaN         NaN       True    True        True     True   \n",
       "3069         NaN         NaN       True    True        True     True   \n",
       "3070         NaN         NaN       True    True        True     True   \n",
       "3071         NaN         NaN       True    True        True     True   \n",
       "\n",
       "      ctc_valid  stk_valid  elec_valid  valid  \n",
       "0          True       True        True   True  \n",
       "1          True       True        True   True  \n",
       "2          True       True        True   True  \n",
       "3          True       True        True   True  \n",
       "4          True       True        True   True  \n",
       "...         ...        ...         ...    ...  \n",
       "3067       True       True        True   True  \n",
       "3068       True       True        True   True  \n",
       "3069       True       True        True   True  \n",
       "3070       True       True        True   True  \n",
       "3071       True       True        True   True  \n",
       "\n",
       "[3072 rows x 28 columns]"
      ]
     },
     "execution_count": 7,
     "metadata": {},
     "output_type": "execute_result"
    }
   ],
   "source": [
    "ds.data"
   ]
  },
  {
   "cell_type": "code",
   "execution_count": null,
   "id": "750c540a-d9af-466a-91ec-462984b28bb9",
   "metadata": {},
   "outputs": [],
   "source": []
  },
  {
   "cell_type": "code",
   "execution_count": 8,
   "id": "25935e3f-43b8-4767-b684-494dd6b158c6",
   "metadata": {},
   "outputs": [],
   "source": [
    "alldata = np.array(alldata)"
   ]
  },
  {
   "cell_type": "code",
   "execution_count": 9,
   "id": "f5f2a3de-4d15-4faa-8a4d-c721604f7162",
   "metadata": {},
   "outputs": [
    {
     "data": {
      "text/plain": [
       "(51, 3072)"
      ]
     },
     "execution_count": 9,
     "metadata": {},
     "output_type": "execute_result"
    }
   ],
   "source": [
    "alldata.shape"
   ]
  },
  {
   "cell_type": "code",
   "execution_count": 10,
   "id": "7149726d-5d07-4359-bbd3-280bc1aca10e",
   "metadata": {},
   "outputs": [],
   "source": [
    "import matplotlib.pyplot as plt\n",
    "import matplotlib.pylab as pylab\n",
    "import matplotlib\n",
    "params = {'legend.fontsize': 15,\n",
    "          #'figure.figsize': (15, 5),\n",
    "         'axes.labelsize': 15,\n",
    "         'axes.titlesize':16,\n",
    "         'xtick.labelsize':15,\n",
    "         'ytick.labelsize':15}\n",
    "pylab.rcParams.update(params)\n",
    "plt.rcParams[\"font.family\"] = \"Arial\""
   ]
  },
  {
   "cell_type": "code",
   "execution_count": 11,
   "id": "b93c6fc9-76d5-465c-ba46-34493acd802d",
   "metadata": {},
   "outputs": [],
   "source": [
    "ydata = np.arange(alldata.shape[1])\n",
    "xdata = np.arange(alldata.shape[0])\n",
    "xv, yv = np.meshgrid(xdata, ydata, indexing='xy')"
   ]
  },
  {
   "cell_type": "code",
   "execution_count": 12,
   "id": "98f813c4-f327-4cd0-beaf-155444c9286f",
   "metadata": {},
   "outputs": [
    {
     "data": {
      "image/png": "[encoded data removed]",
      "text/plain": [
       "<Figure size 720x576 with 2 Axes>"
      ]
     },
     "metadata": {
      "needs_background": "light"
     },
     "output_type": "display_data"
    }
   ],
   "source": [
    "fig =  plt.figure(figsize=[10,8])\n",
    "#plt.scatter(xv, yv,c = alldata, s=10,norm=matplotlib.colors.LogNorm(vmin=0.001, vmax=1000))\n",
    "plt.imshow(alldata.T, norm=matplotlib.colors.LogNorm(vmin=0.001, vmax=1000))\n",
    "\n",
    "\n",
    "plt.xlim([0,alldata.shape[0]-1])\n",
    "plt.ylim([0,alldata.shape[1]])\n",
    "cbar = plt.colorbar(shrink = 0.6)\n",
    "cbar.set_label('Resistance (Ohm)', rotation=270, labelpad=10)\n",
    "plt.xlabel('Survey #')\n",
    "plt.ylabel('Measurement #')\n",
    "ax = plt.gca()\n",
    "ax.set_aspect(0.01)\n",
    "#plt.tight_layout()\n",
    "# ax.axis('equal')"
   ]
  },
  {
   "cell_type": "code",
   "execution_count": null,
   "id": "31dfeea3-b680-46c6-a841-03f5e93d2219",
   "metadata": {},
   "outputs": [],
   "source": []
  },
  {
   "cell_type": "code",
   "execution_count": null,
   "id": "0cffc814-b53a-4252-be83-bef23c2b0ec9",
   "metadata": {},
   "outputs": [],
   "source": []
  },
  {
   "cell_type": "code",
   "execution_count": 13,
   "id": "1d8559a8-2f53-40b0-8f3f-fac1928058f4",
   "metadata": {},
   "outputs": [
    {
     "data": {
      "image/png": "[encoded data removed]",
      "text/plain": [
       "<Figure size 720x576 with 2 Axes>"
      ]
     },
     "metadata": {
      "needs_background": "light"
     },
     "output_type": "display_data"
    }
   ],
   "source": [
    "fig =  plt.figure(figsize=[10,8])\n",
    "#plt.scatter(xv, yv,c = alldata, s=10,norm=matplotlib.colors.LogNorm(vmin=0.001, vmax=1000))\n",
    "tt = alldata[0,:]\n",
    "tt = tt.reshape(tt.shape[0],1)\n",
    "plt.imshow((alldata.T-tt)/tt,cmap =\"bwr\",vmin = -3, vmax=3 )\n",
    "cbar = plt.colorbar(shrink = 0.6)\n",
    "cbar.set_label('Change (%)', rotation=270, labelpad=11)\n",
    "plt.xlabel('Survey #')\n",
    "plt.ylabel('Measurement #')\n",
    "plt.xlim([0,alldata.shape[0]-1])\n",
    "plt.ylim([0,alldata.shape[1]])\n",
    "ax = plt.gca()\n",
    "ax.set_aspect(0.01)"
   ]
  },
  {
   "cell_type": "code",
   "execution_count": 6,
   "id": "58242971-660a-4b0c-93e1-733596521909",
   "metadata": {},
   "outputs": [],
   "source": [
    "def distance(p1,p2):\n",
    "    dis = np.sqrt(np.sum((p1-p2)**2))\n",
    "    return dis"
   ]
  },
  {
   "cell_type": "code",
   "execution_count": 41,
   "id": "71e97a39-b4e9-4e98-915e-95019ff8e3cd",
   "metadata": {},
   "outputs": [
    {
     "name": "stdout",
     "output_type": "stream",
     "text": [
      "FreDom:  False     AppRes:  False     TW:  0     SP:  1\n",
      "{'meas': 0, 'a': 2, 'b': 4, 'm': 6, 'n': 8, 'r': 9, 'stk': 10, 'v': 11, 'curr': 14, 'ctc': 15, 'datetime': 16}\n",
      "FreDom:  False     AppRes:  False     TW:  0     SP:  1\n",
      "{'meas': 0, 'a': 2, 'b': 4, 'm': 6, 'n': 8, 'r': 9, 'stk': 10, 'v': 11, 'curr': 14, 'ctc': 15, 'datetime': 16}\n",
      "FreDom:  False     AppRes:  False     TW:  0     SP:  1\n",
      "{'meas': 0, 'a': 2, 'b': 4, 'm': 6, 'n': 8, 'r': 9, 'stk': 10, 'v': 11, 'curr': 14, 'ctc': 15, 'datetime': 16}\n",
      "FreDom:  False     AppRes:  False     TW:  0     SP:  1\n",
      "{'meas': 0, 'a': 2, 'b': 4, 'm': 6, 'n': 8, 'r': 9, 'stk': 10, 'v': 11, 'curr': 14, 'ctc': 15, 'datetime': 16}\n",
      "FreDom:  False     AppRes:  False     TW:  0     SP:  1\n",
      "{'meas': 0, 'a': 2, 'b': 4, 'm': 6, 'n': 8, 'r': 9, 'stk': 10, 'v': 11, 'curr': 14, 'ctc': 15, 'datetime': 16}\n",
      "FreDom:  False     AppRes:  False     TW:  0     SP:  1\n",
      "{'meas': 0, 'a': 2, 'b': 4, 'm': 6, 'n': 8, 'r': 9, 'stk': 10, 'v': 11, 'curr': 14, 'ctc': 15, 'datetime': 16}\n",
      "FreDom:  False     AppRes:  False     TW:  0     SP:  1\n",
      "{'meas': 0, 'a': 2, 'b': 4, 'm': 6, 'n': 8, 'r': 9, 'stk': 10, 'v': 11, 'curr': 14, 'ctc': 15, 'datetime': 16}\n",
      "FreDom:  False     AppRes:  False     TW:  0     SP:  1\n",
      "{'meas': 0, 'a': 2, 'b': 4, 'm': 6, 'n': 8, 'r': 9, 'stk': 10, 'v': 11, 'curr': 14, 'ctc': 15, 'datetime': 16}\n",
      "FreDom:  False     AppRes:  False     TW:  0     SP:  1\n",
      "{'meas': 0, 'a': 2, 'b': 4, 'm': 6, 'n': 8, 'r': 9, 'stk': 10, 'v': 11, 'curr': 14, 'ctc': 15, 'datetime': 16}\n",
      "FreDom:  False     AppRes:  False     TW:  0     SP:  1\n",
      "{'meas': 0, 'a': 2, 'b': 4, 'm': 6, 'n': 8, 'r': 9, 'stk': 10, 'v': 11, 'curr': 14, 'ctc': 15, 'datetime': 16}\n",
      "FreDom:  False     AppRes:  False     TW:  0     SP:  1\n",
      "{'meas': 0, 'a': 2, 'b': 4, 'm': 6, 'n': 8, 'r': 9, 'stk': 10, 'v': 11, 'curr': 14, 'ctc': 15, 'datetime': 16}\n",
      "FreDom:  False     AppRes:  False     TW:  0     SP:  1\n",
      "{'meas': 0, 'a': 2, 'b': 4, 'm': 6, 'n': 8, 'r': 9, 'stk': 10, 'v': 11, 'curr': 14, 'ctc': 15, 'datetime': 16}\n",
      "FreDom:  False     AppRes:  False     TW:  0     SP:  1\n",
      "{'meas': 0, 'a': 2, 'b': 4, 'm': 6, 'n': 8, 'r': 9, 'stk': 10, 'v': 11, 'curr': 14, 'ctc': 15, 'datetime': 16}\n",
      "FreDom:  False     AppRes:  False     TW:  0     SP:  1\n",
      "{'meas': 0, 'a': 2, 'b': 4, 'm': 6, 'n': 8, 'r': 9, 'stk': 10, 'v': 11, 'curr': 14, 'ctc': 15, 'datetime': 16}\n",
      "FreDom:  False     AppRes:  False     TW:  0     SP:  1\n",
      "{'meas': 0, 'a': 2, 'b': 4, 'm': 6, 'n': 8, 'r': 9, 'stk': 10, 'v': 11, 'curr': 14, 'ctc': 15, 'datetime': 16}\n",
      "FreDom:  False     AppRes:  False     TW:  0     SP:  1\n",
      "{'meas': 0, 'a': 2, 'b': 4, 'm': 6, 'n': 8, 'r': 9, 'stk': 10, 'v': 11, 'curr': 14, 'ctc': 15, 'datetime': 16}\n",
      "FreDom:  False     AppRes:  False     TW:  0     SP:  1\n",
      "{'meas': 0, 'a': 2, 'b': 4, 'm': 6, 'n': 8, 'r': 9, 'stk': 10, 'v': 11, 'curr': 14, 'ctc': 15, 'datetime': 16}\n",
      "FreDom:  False     AppRes:  False     TW:  0     SP:  1\n",
      "{'meas': 0, 'a': 2, 'b': 4, 'm': 6, 'n': 8, 'r': 9, 'stk': 10, 'v': 11, 'curr': 14, 'ctc': 15, 'datetime': 16}\n",
      "FreDom:  False     AppRes:  False     TW:  0     SP:  1\n",
      "{'meas': 0, 'a': 2, 'b': 4, 'm': 6, 'n': 8, 'r': 9, 'stk': 10, 'v': 11, 'curr': 14, 'ctc': 15, 'datetime': 16}\n",
      "FreDom:  False     AppRes:  False     TW:  0     SP:  1\n",
      "{'meas': 0, 'a': 2, 'b': 4, 'm': 6, 'n': 8, 'r': 9, 'stk': 10, 'v': 11, 'curr': 14, 'ctc': 15, 'datetime': 16}\n",
      "FreDom:  False     AppRes:  False     TW:  0     SP:  1\n",
      "{'meas': 0, 'a': 2, 'b': 4, 'm': 6, 'n': 8, 'r': 9, 'stk': 10, 'v': 11, 'curr': 14, 'ctc': 15, 'datetime': 16}\n",
      "FreDom:  False     AppRes:  False     TW:  0     SP:  1\n",
      "{'meas': 0, 'a': 2, 'b': 4, 'm': 6, 'n': 8, 'r': 9, 'stk': 10, 'v': 11, 'curr': 14, 'ctc': 15, 'datetime': 16}\n",
      "FreDom:  False     AppRes:  False     TW:  0     SP:  1\n",
      "{'meas': 0, 'a': 2, 'b': 4, 'm': 6, 'n': 8, 'r': 9, 'stk': 10, 'v': 11, 'curr': 14, 'ctc': 15, 'datetime': 16}\n",
      "FreDom:  False     AppRes:  False     TW:  0     SP:  1\n",
      "{'meas': 0, 'a': 2, 'b': 4, 'm': 6, 'n': 8, 'r': 9, 'stk': 10, 'v': 11, 'curr': 14, 'ctc': 15, 'datetime': 16}\n",
      "FreDom:  False     AppRes:  False     TW:  0     SP:  1\n",
      "{'meas': 0, 'a': 2, 'b': 4, 'm': 6, 'n': 8, 'r': 9, 'stk': 10, 'v': 11, 'curr': 14, 'ctc': 15, 'datetime': 16}\n",
      "FreDom:  False     AppRes:  False     TW:  0     SP:  1\n",
      "{'meas': 0, 'a': 2, 'b': 4, 'm': 6, 'n': 8, 'r': 9, 'stk': 10, 'v': 11, 'curr': 14, 'ctc': 15, 'datetime': 16}\n",
      "FreDom:  False     AppRes:  False     TW:  0     SP:  1\n",
      "{'meas': 0, 'a': 2, 'b': 4, 'm': 6, 'n': 8, 'r': 9, 'stk': 10, 'v': 11, 'curr': 14, 'ctc': 15, 'datetime': 16}\n",
      "FreDom:  False     AppRes:  False     TW:  0     SP:  1\n",
      "{'meas': 0, 'a': 2, 'b': 4, 'm': 6, 'n': 8, 'r': 9, 'stk': 10, 'v': 11, 'curr': 14, 'ctc': 15, 'datetime': 16}\n",
      "FreDom:  False     AppRes:  False     TW:  0     SP:  1\n",
      "{'meas': 0, 'a': 2, 'b': 4, 'm': 6, 'n': 8, 'r': 9, 'stk': 10, 'v': 11, 'curr': 14, 'ctc': 15, 'datetime': 16}\n",
      "FreDom:  False     AppRes:  False     TW:  0     SP:  1\n",
      "{'meas': 0, 'a': 2, 'b': 4, 'm': 6, 'n': 8, 'r': 9, 'stk': 10, 'v': 11, 'curr': 14, 'ctc': 15, 'datetime': 16}\n",
      "FreDom:  False     AppRes:  False     TW:  0     SP:  1\n",
      "{'meas': 0, 'a': 2, 'b': 4, 'm': 6, 'n': 8, 'r': 9, 'stk': 10, 'v': 11, 'curr': 14, 'ctc': 15, 'datetime': 16}\n",
      "FreDom:  False     AppRes:  False     TW:  0     SP:  1\n",
      "{'meas': 0, 'a': 2, 'b': 4, 'm': 6, 'n': 8, 'r': 9, 'stk': 10, 'v': 11, 'curr': 14, 'ctc': 15, 'datetime': 16}\n",
      "FreDom:  False     AppRes:  False     TW:  0     SP:  1\n",
      "{'meas': 0, 'a': 2, 'b': 4, 'm': 6, 'n': 8, 'r': 9, 'stk': 10, 'v': 11, 'curr': 14, 'ctc': 15, 'datetime': 16}\n",
      "FreDom:  False     AppRes:  False     TW:  0     SP:  1\n",
      "{'meas': 0, 'a': 2, 'b': 4, 'm': 6, 'n': 8, 'r': 9, 'stk': 10, 'v': 11, 'curr': 14, 'ctc': 15, 'datetime': 16}\n",
      "FreDom:  False     AppRes:  False     TW:  0     SP:  1\n",
      "{'meas': 0, 'a': 2, 'b': 4, 'm': 6, 'n': 8, 'r': 9, 'stk': 10, 'v': 11, 'curr': 14, 'ctc': 15, 'datetime': 16}\n",
      "FreDom:  False     AppRes:  False     TW:  0     SP:  1\n",
      "{'meas': 0, 'a': 2, 'b': 4, 'm': 6, 'n': 8, 'r': 9, 'stk': 10, 'v': 11, 'curr': 14, 'ctc': 15, 'datetime': 16}\n",
      "FreDom:  False     AppRes:  False     TW:  0     SP:  1\n",
      "{'meas': 0, 'a': 2, 'b': 4, 'm': 6, 'n': 8, 'r': 9, 'stk': 10, 'v': 11, 'curr': 14, 'ctc': 15, 'datetime': 16}\n",
      "FreDom:  False     AppRes:  False     TW:  0     SP:  1\n",
      "{'meas': 0, 'a': 2, 'b': 4, 'm': 6, 'n': 8, 'r': 9, 'stk': 10, 'v': 11, 'curr': 14, 'ctc': 15, 'datetime': 16}\n",
      "FreDom:  False     AppRes:  False     TW:  0     SP:  1\n",
      "{'meas': 0, 'a': 2, 'b': 4, 'm': 6, 'n': 8, 'r': 9, 'stk': 10, 'v': 11, 'curr': 14, 'ctc': 15, 'datetime': 16}\n",
      "FreDom:  False     AppRes:  False     TW:  0     SP:  1\n",
      "{'meas': 0, 'a': 2, 'b': 4, 'm': 6, 'n': 8, 'r': 9, 'stk': 10, 'v': 11, 'curr': 14, 'ctc': 15, 'datetime': 16}\n",
      "FreDom:  False     AppRes:  False     TW:  0     SP:  1\n",
      "{'meas': 0, 'a': 2, 'b': 4, 'm': 6, 'n': 8, 'r': 9, 'stk': 10, 'v': 11, 'curr': 14, 'ctc': 15, 'datetime': 16}\n",
      "FreDom:  False     AppRes:  False     TW:  0     SP:  1\n",
      "{'meas': 0, 'a': 2, 'b': 4, 'm': 6, 'n': 8, 'r': 9, 'stk': 10, 'v': 11, 'curr': 14, 'ctc': 15, 'datetime': 16}\n",
      "FreDom:  False     AppRes:  False     TW:  0     SP:  1\n",
      "{'meas': 0, 'a': 2, 'b': 4, 'm': 6, 'n': 8, 'r': 9, 'stk': 10, 'v': 11, 'curr': 14, 'ctc': 15, 'datetime': 16}\n",
      "FreDom:  False     AppRes:  False     TW:  0     SP:  1\n",
      "{'meas': 0, 'a': 2, 'b': 4, 'm': 6, 'n': 8, 'r': 9, 'stk': 10, 'v': 11, 'curr': 14, 'ctc': 15, 'datetime': 16}\n",
      "FreDom:  False     AppRes:  False     TW:  0     SP:  1\n",
      "{'meas': 0, 'a': 2, 'b': 4, 'm': 6, 'n': 8, 'r': 9, 'stk': 10, 'v': 11, 'curr': 14, 'ctc': 15, 'datetime': 16}\n",
      "FreDom:  False     AppRes:  False     TW:  0     SP:  1\n",
      "{'meas': 0, 'a': 2, 'b': 4, 'm': 6, 'n': 8, 'r': 9, 'stk': 10, 'v': 11, 'curr': 14, 'ctc': 15, 'datetime': 16}\n",
      "FreDom:  False     AppRes:  False     TW:  0     SP:  1\n",
      "{'meas': 0, 'a': 2, 'b': 4, 'm': 6, 'n': 8, 'r': 9, 'stk': 10, 'v': 11, 'curr': 14, 'ctc': 15, 'datetime': 16}\n",
      "FreDom:  False     AppRes:  False     TW:  0     SP:  1\n",
      "{'meas': 0, 'a': 2, 'b': 4, 'm': 6, 'n': 8, 'r': 9, 'stk': 10, 'v': 11, 'curr': 14, 'ctc': 15, 'datetime': 16}\n",
      "FreDom:  False     AppRes:  False     TW:  0     SP:  1\n",
      "{'meas': 0, 'a': 2, 'b': 4, 'm': 6, 'n': 8, 'r': 9, 'stk': 10, 'v': 11, 'curr': 14, 'ctc': 15, 'datetime': 16}\n",
      "FreDom:  False     AppRes:  False     TW:  0     SP:  1\n",
      "{'meas': 0, 'a': 2, 'b': 4, 'm': 6, 'n': 8, 'r': 9, 'stk': 10, 'v': 11, 'curr': 14, 'ctc': 15, 'datetime': 16}\n",
      "FreDom:  False     AppRes:  False     TW:  0     SP:  1\n",
      "{'meas': 0, 'a': 2, 'b': 4, 'm': 6, 'n': 8, 'r': 9, 'stk': 10, 'v': 11, 'curr': 14, 'ctc': 15, 'datetime': 16}\n"
     ]
    }
   ],
   "source": [
    "\n",
    "for i in range(len(ertfile)):\n",
    "    f = ertfile[i]\n",
    "    elec, data = read_labrecque(f)\n",
    "\n",
    "    # pass to ERTdataset class\n",
    "    ds = ERTdataset(data=data, elec=elec)\n",
    "\n",
    "    pos = np.vstack((elec['x'],elec['y'],elec['z']))\n",
    "    pos = pos.T\n",
    "\n",
    "    K1 = []\n",
    "    for i in range(len(ds.data['a'])):\n",
    "        AM = distance(pos[ds.data['a'][i]-1,:],pos[ds.data['m'][i]-1,:])\n",
    "        AN = distance(pos[ds.data['a'][i]-1,:],pos[ds.data['n'][i]-1,:])\n",
    "        BM = distance(pos[ds.data['b'][i]-1,:],pos[ds.data['m'][i]-1,:])\n",
    "        BN = distance(pos[ds.data['b'][i]-1,:],pos[ds.data['n'][i]-1,:])\n",
    "\n",
    "        ApM = distance(pos[ds.data['a'][i]-1,:]*[1,1,-1],pos[ds.data['m'][i]-1,:])\n",
    "        ApN = distance(pos[ds.data['a'][i]-1,:]*[1,1,-1],pos[ds.data['n'][i]-1,:])\n",
    "        BpM = distance(pos[ds.data['b'][i]-1,:]*[1,1,-1],pos[ds.data['m'][i]-1,:])\n",
    "        BpN = distance(pos[ds.data['b'][i]-1,:]*[1,1,-1],pos[ds.data['n'][i]-1,:])\n",
    "\n",
    "        K = 4*np.pi/(1/AM - 1/AN -1/BM + 1/BN + 1/ApM - 1/ApN -1/BpM + 1/BpN)\n",
    "        K1.append(K)\n",
    "    K1 = np.array(K1)\n",
    "\n",
    "    ds.process_rec(x='r', x_avg='rec_avg', x_err='rec_err')\n",
    "\n",
    "\n",
    "    rec = 5 #'max reciprocal err, pct'\n",
    "    ctc = 1E+5 # 'max ctc, ohm'\n",
    "    stk = 20 # 'max stacking err, pct'\n",
    "    k = 1E+5 # 'max geometrical factor, m'\n",
    "    v = 1E-5 # 'min voltage, V'\n",
    "    rhoa = [0, 1E+5] # 'rhoa (min, max)', nargs='+'\n",
    "\n",
    "\n",
    "    ds.data['rec_valid'] = ds.data['rec_err'] < rec\n",
    "    ds.data['ctc_valid'] = ds.data['ctc'] < ctc\n",
    "    ds.data['stk_valid'] = ds.data['stk'] < stk\n",
    "    ds.data['v_valid'] = ds.data['v'].abs() > v\n",
    "    ds.data['dist_amb_valid'] = True\n",
    "\n",
    "    if all(ds.data['ip'].notnull()):\n",
    "        ds.process_rec(x='ip', x_avg='rec_ip_avg', x_err='rec_ip_err')\n",
    "\n",
    "    #elec_kfile, data_kfile = read_bert(k_file=k_file)\n",
    "\n",
    "    ds.data['k'] = K1\n",
    "    ds.data['k_valid'] = ds.data['k'].abs() < k\n",
    "    ds.data['rhoa'] = ds.data['r'] * ds.data['k']\n",
    "    ds.data['rhoa_valid'] = ds.data['rhoa'].between(rhoa[0], rhoa[1])\n",
    "\n",
    "    # combine filters\n",
    "    filters = ['rec_valid', 'k_valid', 'rhoa_valid', 'v_valid', 'ctc_valid', 'stk_valid', 'elec_valid']\n",
    "    ds.data['valid'] = ds.data[filters].all(axis='columns')\n",
    "\n",
    "\n",
    "    w_rhoa = True\n",
    "    w_ip = False\n",
    "    w_err = []\n",
    "    data_cols = ['a', 'b', 'm', 'n', 'r']\n",
    "    elec_cols = ['x', 'y', 'z']\n",
    "\n",
    "    fdat = output_file(f, new_ext='.dat', directory='.')\n",
    "\n",
    "    ds.to_bert(fdat, w_rhoa,w_ip, w_err, data_cols, elec_cols)"
   ]
  },
  {
   "cell_type": "code",
   "execution_count": 16,
   "id": "e9844ce8-dad9-495b-b2ae-1238f3dd0dbe",
   "metadata": {},
   "outputs": [],
   "source": []
  },
  {
   "cell_type": "code",
   "execution_count": 17,
   "id": "9c4fe9e4-cda8-43a7-8d83-30e73f9c51af",
   "metadata": {},
   "outputs": [],
   "source": [
    "\n"
   ]
  },
  {
   "cell_type": "code",
   "execution_count": null,
   "id": "f40079bf-83d9-4393-8278-dd0279ae0e90",
   "metadata": {},
   "outputs": [],
   "source": []
  },
  {
   "cell_type": "code",
   "execution_count": 20,
   "id": "81e1494a-bc19-4c50-a9e6-bdb52774dad9",
   "metadata": {},
   "outputs": [
    {
     "data": {
      "text/plain": [
       "[<matplotlib.lines.Line2D at 0x213125caaf0>]"
      ]
     },
     "execution_count": 20,
     "metadata": {},
     "output_type": "execute_result"
    },
    {
     "data": {
      "image/png": "[encoded data removed]",
      "text/plain": [
       "<Figure size 432x288 with 1 Axes>"
      ]
     },
     "metadata": {
      "needs_background": "light"
     },
     "output_type": "display_data"
    }
   ],
   "source": [
    "\n",
    "plt.plot(K1[abs(K1)<1e4])"
   ]
  },
  {
   "cell_type": "code",
   "execution_count": 7,
   "id": "c4657296-84b2-494f-bffc-53030a9c750f",
   "metadata": {},
   "outputs": [
    {
     "name": "stdout",
     "output_type": "stream",
     "text": [
      "FreDom:  False     AppRes:  False     TW:  0     SP:  1\n",
      "{'meas': 0, 'a': 2, 'b': 4, 'm': 6, 'n': 8, 'r': 9, 'stk': 10, 'v': 11, 'curr': 14, 'ctc': 15, 'datetime': 16}\n"
     ]
    }
   ],
   "source": [
    "i = 0\n",
    "\n",
    "f = ertfile[i]\n",
    "elec, data = read_labrecque(f)\n",
    "\n",
    "# pass to ERTdataset class\n",
    "ds = ERTdataset(data=data, elec=elec)\n",
    "\n",
    "pos = np.vstack((elec['x'],elec['y'],elec['z']))\n",
    "pos = pos.T\n",
    "\n",
    "K1 = []\n",
    "for i in range(len(ds.data['a'])):\n",
    "    AM = distance(pos[ds.data['a'][i]-1,:],pos[ds.data['m'][i]-1,:])\n",
    "    AN = distance(pos[ds.data['a'][i]-1,:],pos[ds.data['n'][i]-1,:])\n",
    "    BM = distance(pos[ds.data['b'][i]-1,:],pos[ds.data['m'][i]-1,:])\n",
    "    BN = distance(pos[ds.data['b'][i]-1,:],pos[ds.data['n'][i]-1,:])\n",
    "\n",
    "    ApM = distance(pos[ds.data['a'][i]-1,:]*[1,1,-1],pos[ds.data['m'][i]-1,:])\n",
    "    ApN = distance(pos[ds.data['a'][i]-1,:]*[1,1,-1],pos[ds.data['n'][i]-1,:])\n",
    "    BpM = distance(pos[ds.data['b'][i]-1,:]*[1,1,-1],pos[ds.data['m'][i]-1,:])\n",
    "    BpN = distance(pos[ds.data['b'][i]-1,:]*[1,1,-1],pos[ds.data['n'][i]-1,:])\n",
    "\n",
    "    K = 4*np.pi/(1/AM - 1/AN -1/BM + 1/BN + 1/ApM - 1/ApN -1/BpM + 1/BpN)\n",
    "    K1.append(K)\n",
    "K1 = np.array(K1)\n",
    "\n",
    "ds.process_rec(x='r', x_avg='rec_avg', x_err='rec_err')\n",
    "\n",
    "\n",
    "rec = 5 #'max reciprocal err, pct'\n",
    "ctc = 1E+5 # 'max ctc, ohm'\n",
    "stk = 20 # 'max stacking err, pct'\n",
    "k = 1E+5 # 'max geometrical factor, m'\n",
    "v = 1E-5 # 'min voltage, V'\n",
    "rhoa = [0, 1E+5] # 'rhoa (min, max)', nargs='+'\n",
    "\n",
    "\n",
    "ds.data['rec_valid'] = ds.data['rec_err'] < rec\n",
    "ds.data['ctc_valid'] = ds.data['ctc'] < ctc\n",
    "ds.data['stk_valid'] = ds.data['stk'] < stk\n",
    "ds.data['v_valid'] = ds.data['v'].abs() > v\n",
    "ds.data['dist_amb_valid'] = True\n",
    "\n",
    "if all(ds.data['ip'].notnull()):\n",
    "    ds.process_rec(x='ip', x_avg='rec_ip_avg', x_err='rec_ip_err')\n",
    "\n",
    "#elec_kfile, data_kfile = read_bert(k_file=k_file)\n",
    "\n",
    "ds.data['k'] = K1\n",
    "ds.data['k_valid'] = ds.data['k'].abs() < k\n",
    "ds.data['rhoa'] = ds.data['r'] * ds.data['k']\n",
    "ds.data['rhoa_valid'] = ds.data['rhoa'].between(rhoa[0], rhoa[1])\n",
    "\n",
    "# combine filters\n",
    "filters = ['rec_valid', 'k_valid', 'rhoa_valid', 'v_valid', 'ctc_valid', 'stk_valid', 'elec_valid']\n",
    "ds.data['valid'] = ds.data[filters].all(axis='columns')\n",
    "\n",
    "\n",
    "w_rhoa = True\n",
    "w_ip = False\n",
    "w_err = []\n",
    "data_cols = ['a', 'b', 'm', 'n', 'r']\n",
    "elec_cols = ['x', 'y', 'z']\n",
    "\n",
    "fdat = output_file(f, new_ext='.dat', directory='.')\n",
    "\n",
    "ds.to_bert(fdat, w_rhoa,w_ip, w_err, data_cols, elec_cols)"
   ]
  },
  {
   "cell_type": "code",
   "execution_count": null,
   "id": "36ce8d43-381a-49dc-a9c1-b4841a9faf59",
   "metadata": {},
   "outputs": [],
   "source": []
  },
  {
   "cell_type": "code",
   "execution_count": 9,
   "id": "1bf43b2d-1569-442e-85c6-65076229eb51",
   "metadata": {},
   "outputs": [
    {
     "data": {
      "text/plain": [
       "0      -6827.662918\n",
       "1        451.027618\n",
       "2       -287.352921\n",
       "3       -142.676664\n",
       "4       -128.532540\n",
       "           ...     \n",
       "3067      58.539502\n",
       "3068      34.148914\n",
       "3069      17.638786\n",
       "3070       8.048754\n",
       "3071       2.653098\n",
       "Name: k, Length: 3072, dtype: float64"
      ]
     },
     "execution_count": 9,
     "metadata": {},
     "output_type": "execute_result"
    }
   ],
   "source": [
    "ds.data['k']"
   ]
  },
  {
   "cell_type": "code",
   "execution_count": 38,
   "id": "69e0326c-cdfd-43c6-9024-c6cde077ca8a",
   "metadata": {},
   "outputs": [
    {
     "name": "stderr",
     "output_type": "stream",
     "text": [
      "12/07/22 - 17:28:52 - pyGIMLi - \u001b[0;33;49mWARNING\u001b[0m - Something gone wrong while drawing data. Try fallback with equidistant electrodes.\n"
     ]
    },
    {
     "data": {
      "text/plain": [
       "(<AxesSubplot:>, <matplotlib.colorbar.Colorbar at 0x2131604b040>)"
      ]
     },
     "execution_count": 38,
     "metadata": {},
     "output_type": "execute_result"
    },
    {
     "data": {
      "image/png": "[encoded data removed]",
      "text/plain": [
       "<Figure size 432x288 with 2 Axes>"
      ]
     },
     "metadata": {
      "needs_background": "light"
     },
     "output_type": "display_data"
    }
   ],
   "source": [
    "data = ert.load(f[:-4]+'dat')\n",
    "ert.showData(data)"
   ]
  },
  {
   "cell_type": "code",
   "execution_count": 42,
   "id": "48e5ccc3-1c27-4020-afa8-5df6512c210f",
   "metadata": {},
   "outputs": [
    {
     "name": "stderr",
     "output_type": "stream",
     "text": [
      "12/07/22 - 17:56:17 - pyGIMLi - \u001b[0;33;49mWARNING\u001b[0m - Something gone wrong while drawing data. Try fallback with equidistant electrodes.\n"
     ]
    },
    {
     "data": {
      "text/plain": [
       "(<AxesSubplot:>, <matplotlib.colorbar.Colorbar at 0x2131616a5b0>)"
      ]
     },
     "execution_count": 42,
     "metadata": {},
     "output_type": "execute_result"
    },
    {
     "data": {
      "image/png": "[encoded data removed]",
      "text/plain": [
       "<Figure size 432x288 with 2 Axes>"
      ]
     },
     "metadata": {
      "needs_background": "light"
     },
     "output_type": "display_data"
    }
   ],
   "source": [
    "data = ert.load(f[:-4]+'dat')\n",
    "ert.showData(data)"
   ]
  },
  {
   "cell_type": "code",
   "execution_count": 44,
   "id": "eafb0592-479d-4d6f-8a96-90ddcf152993",
   "metadata": {},
   "outputs": [
    {
     "data": {
      "text/plain": [
       "(array([1866.,  273.,  120.,   93.,   59.,   41.,   17.,   19.,   19.,\n",
       "           6.]),\n",
       " array([2.70670000e-01, 9.89273360e+03, 1.97851965e+04, 2.96776595e+04,\n",
       "        3.95701224e+04, 4.94625853e+04, 5.93550483e+04, 6.92475112e+04,\n",
       "        7.91399741e+04, 8.90324371e+04, 9.89249000e+04]),\n",
       " <BarContainer object of 10 artists>)"
      ]
     },
     "execution_count": 44,
     "metadata": {},
     "output_type": "execute_result"
    },
    {
     "data": {
      "image/png": "[encoded data removed]",
      "text/plain": [
       "<Figure size 432x288 with 1 Axes>"
      ]
     },
     "metadata": {
      "needs_background": "light"
     },
     "output_type": "display_data"
    }
   ],
   "source": [
    "plt.hist(np.array(data['rhoa']))"
   ]
  },
  {
   "cell_type": "code",
   "execution_count": null,
   "id": "145ea004-8512-4b30-8479-6af3fcde3a25",
   "metadata": {},
   "outputs": [],
   "source": []
  },
  {
   "cell_type": "code",
   "execution_count": null,
   "id": "0e6524c9-32b6-43d7-ab03-cd042c76b4d3",
   "metadata": {},
   "outputs": [],
   "source": []
  },
  {
   "cell_type": "code",
   "execution_count": null,
   "id": "f164f56e-3e0d-4881-87ae-89016640c324",
   "metadata": {},
   "outputs": [],
   "source": []
  }
 ],
 "metadata": {
  "kernelspec": {
   "display_name": "Python 3 (ipykernel)",
   "language": "python",
   "name": "python3"
  },
  "language_info": {
   "codemirror_mode": {
    "name": "ipython",
    "version": 3
   },
   "file_extension": ".py",
   "mimetype": "text/x-python",
   "name": "python",
   "nbconvert_exporter": "python",
   "pygments_lexer": "ipython3",
   "version": "3.8.13"
  }
 },
 "nbformat": 4,
 "nbformat_minor": 5
}
